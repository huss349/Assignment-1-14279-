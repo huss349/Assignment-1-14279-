{
 "cells": [
  {
   "cell_type": "code",
   "execution_count": 80,
   "id": "832bdab4-ab17-450f-95af-aa3cc0057207",
   "metadata": {},
   "outputs": [
    {
     "data": {
      "text/plain": [
       "['20k', '40k', '50k', '60k', '35k', '89k', '40k']"
      ]
     },
     "execution_count": 80,
     "metadata": {},
     "output_type": "execute_result"
    }
   ],
   "source": [
    "salaries = ['20k','40k','50k','60k','35k','89k','40k']\n",
    "salaries"
   ]
  },
  {
   "cell_type": "code",
   "execution_count": 82,
   "id": "1f058974-cd76-4d5c-a8d3-07e4f4c2fc29",
   "metadata": {},
   "outputs": [
    {
     "data": {
      "text/plain": [
       "7"
      ]
     },
     "execution_count": 82,
     "metadata": {},
     "output_type": "execute_result"
    }
   ],
   "source": [
    "# TASK 01 \n",
    "salaries = ['20k','40k','50k','60k','35k','89k','40k']\n",
    "len(salaries)\n"
   ]
  },
  {
   "cell_type": "code",
   "execution_count": 84,
   "id": "ff8b1fbd-93ba-471a-b28a-70a60de68910",
   "metadata": {},
   "outputs": [
    {
     "data": {
      "text/plain": [
       "'50k'"
      ]
     },
     "execution_count": 84,
     "metadata": {},
     "output_type": "execute_result"
    }
   ],
   "source": [
    "# TASK NO 02 \n",
    "salaries = ['20k','40k','50k','60k','35k','89k','40k']\n",
    "salaries [2]"
   ]
  },
  {
   "cell_type": "code",
   "execution_count": 86,
   "id": "84c2eeb7-c2fc-437d-8ff3-0e0b9463ebbb",
   "metadata": {},
   "outputs": [
    {
     "data": {
      "text/plain": [
       "'40k'"
      ]
     },
     "execution_count": 86,
     "metadata": {},
     "output_type": "execute_result"
    }
   ],
   "source": [
    "# TASK NO 03 \n",
    "salaries = ['20k','40k','50k','60k','35k','89k','40k']\n",
    "salaries[-1]"
   ]
  },
  {
   "cell_type": "code",
   "execution_count": 88,
   "id": "be5d819d-9adc-4d35-88b9-7f9292b595c0",
   "metadata": {},
   "outputs": [
    {
     "data": {
      "text/plain": [
       "['50k', '60k', '35k']"
      ]
     },
     "execution_count": 88,
     "metadata": {},
     "output_type": "execute_result"
    }
   ],
   "source": [
    "# TASK NO 04\n",
    "salaries = ['20k','40k','50k','60k','35k','89k','40k']\n",
    "salaries [2:5]"
   ]
  },
  {
   "cell_type": "code",
   "execution_count": 90,
   "id": "c4ccade9-cb5f-4bcd-b78d-23bc3b7faf14",
   "metadata": {
    "scrolled": true
   },
   "outputs": [
    {
     "data": {
      "text/plain": [
       "['20k', '40k', '50k', '60k', '35k', '89k', '40k', '100k']"
      ]
     },
     "execution_count": 90,
     "metadata": {},
     "output_type": "execute_result"
    }
   ],
   "source": [
    "# TASK NO 05 \n",
    "salaries = ['20k','40k','50k','60k','35k','89k','40k']\n",
    "salaries\n",
    "salaries.append('100k')\n",
    "salaries"
   ]
  },
  {
   "cell_type": "code",
   "execution_count": 92,
   "id": "57af458a-d03f-4861-ab05-6947b15a29ca",
   "metadata": {},
   "outputs": [
    {
     "data": {
      "text/plain": [
       "['20k', '40k', '50k', '60k', '35k', '89k', '40k', '120k']"
      ]
     },
     "execution_count": 92,
     "metadata": {},
     "output_type": "execute_result"
    }
   ],
   "source": [
    "# TASK NO 06\n",
    "salaries = ['20k','40k','50k','60k','35k','89k','40k']\n",
    "salaries\n",
    "salaries += ['120k']\n",
    "salaries\n"
   ]
  },
  {
   "cell_type": "code",
   "execution_count": 98,
   "id": "62f6b25a-5d84-407f-b5b7-7c991102729f",
   "metadata": {},
   "outputs": [
    {
     "data": {
      "text/plain": [
       "['20k', '40k', '55k', '60k', '35k', '89k', '40k']"
      ]
     },
     "execution_count": 98,
     "metadata": {},
     "output_type": "execute_result"
    }
   ],
   "source": [
    "# TASK NO 07\n",
    "salaries = ['20k','40k','50k','60k','35k','89k','40k']\n",
    "salaries [2] = '55k'\n",
    "salaries\n"
   ]
  },
  {
   "cell_type": "code",
   "execution_count": 94,
   "id": "80221d12-31f0-4a34-9c55-71bea6140aee",
   "metadata": {},
   "outputs": [
    {
     "data": {
      "text/plain": [
       "2"
      ]
     },
     "execution_count": 94,
     "metadata": {},
     "output_type": "execute_result"
    }
   ],
   "source": [
    "# TASK NO 08\n",
    "salaries = ['20k','40k','50k','60k','35k','89k','40k']\n",
    "salaries.count('40k')\n"
   ]
  },
  {
   "cell_type": "code",
   "execution_count": 96,
   "id": "45e606b9-a422-4a6f-adac-c17dbd475a70",
   "metadata": {},
   "outputs": [
    {
     "data": {
      "text/plain": [
       "['20k', '98k', '40k', '50k', '60k', '35k', '89k', '40k']"
      ]
     },
     "execution_count": 96,
     "metadata": {},
     "output_type": "execute_result"
    }
   ],
   "source": [
    "# TASK NO 09\n",
    "salaries = ['20k','40k','50k','60k','35k','89k','40k']\n",
    "salaries.insert(1 , '98k')\n",
    "salaries"
   ]
  },
  {
   "cell_type": "code",
   "execution_count": 102,
   "id": "269bf7b6-4ba7-4b77-97f5-bb1c1182060b",
   "metadata": {},
   "outputs": [
    {
     "data": {
      "text/plain": [
       "['40k', '89k', '35k', '60k', '50k', '40k', '20k']"
      ]
     },
     "execution_count": 102,
     "metadata": {},
     "output_type": "execute_result"
    }
   ],
   "source": [
    "# TASK NO 10\n",
    "salaries = ['20k','40k','50k','60k','35k','89k','40k']\n",
    "salaries.reverse()\n",
    "salaries"
   ]
  },
  {
   "cell_type": "code",
   "execution_count": 116,
   "id": "2e0f7e2b-1a3f-44c5-a6bf-bf4df6c6aaf2",
   "metadata": {},
   "outputs": [
    {
     "data": {
      "text/plain": [
       "['40k', '89k', '35k', '60k', '50k', '40k', '20k']"
      ]
     },
     "execution_count": 116,
     "metadata": {},
     "output_type": "execute_result"
    }
   ],
   "source": [
    "# TASK NO 11\n",
    "salaries = ['20k', '40k', '50k', '60k', '35k', '89k', '40k']\n",
    "salaries = salaries[::-1] \n",
    "salaries"
   ]
  },
  {
   "cell_type": "code",
   "execution_count": null,
   "id": "806a3922-6e6a-4713-bb4c-e3e64811004a",
   "metadata": {},
   "outputs": [],
   "source": []
  }
 ],
 "metadata": {
  "kernelspec": {
   "display_name": "Python 3 (ipykernel)",
   "language": "python",
   "name": "python3"
  },
  "language_info": {
   "codemirror_mode": {
    "name": "ipython",
    "version": 3
   },
   "file_extension": ".py",
   "mimetype": "text/x-python",
   "name": "python",
   "nbconvert_exporter": "python",
   "pygments_lexer": "ipython3",
   "version": "3.12.7"
  }
 },
 "nbformat": 4,
 "nbformat_minor": 5
}
